{
 "cells": [
  {
   "cell_type": "code",
   "execution_count": 1,
   "metadata": {},
   "outputs": [],
   "source": [
    "%matplotlib inline"
   ]
  },
  {
   "cell_type": "markdown",
   "metadata": {},
   "source": [
    "\n",
    "# Isotonic Regression\n",
    "\n",
    "\n",
    "An illustration of the isotonic regression on generated data. The\n",
    "isotonic regression finds a non-decreasing approximation of a function\n",
    "while minimizing the mean squared error on the training data. The benefit\n",
    "of such a model is that it does not assume any form for the target\n",
    "function such as linearity. For comparison a linear regression is also\n",
    "presented.\n",
    "\n",
    "\n"
   ]
  },
  {
   "cell_type": "code",
   "execution_count": null,
   "metadata": {},
   "outputs": [],
   "source": [
    "print(__doc__)\n",
    "\n",
    "# Author: Nelle Varoquaux <nelle.varoquaux@gmail.com>\n",
    "#         Alexandre Gramfort <alexandre.gramfort@inria.fr>\n",
    "# License: BSD\n",
    "\n",
    "import numpy as np\n",
    "import matplotlib.pyplot as plt\n",
    "from matplotlib.collections import LineCollection\n",
    "\n",
    "from sklearn.linear_model import LinearRegression\n",
    "from sklearn.isotonic import IsotonicRegression\n",
    "from sklearn.utils import check_random_state\n",
    "\n",
    "n = 100\n",
    "x = np.arange(n)\n",
    "rs = check_random_state(0)\n",
    "y = rs.randint(-50, 50, size=(n,)) + 50. * np.log1p(np.arange(n))\n",
    "\n",
    "# #############################################################################\n",
    "# Fit IsotonicRegression and LinearRegression models\n",
    "\n",
    "ir = IsotonicRegression()\n",
    "\n",
    "y_ = ir.fit_transform(x, y)\n",
    "\n",
    "lr = LinearRegression()\n",
    "lr.fit(x[:, np.newaxis], y)  # x needs to be 2d for LinearRegression\n",
    "\n",
    "# #############################################################################\n",
    "# Plot result\n",
    "\n",
    "segments = [[[i, y[i]], [i, y_[i]]] for i in range(n)]\n",
    "lc = LineCollection(segments, zorder=0)\n",
    "lc.set_array(np.ones(len(y)))\n",
    "lc.set_linewidths(np.full(n, 0.5))\n",
    "\n",
    "fig = plt.figure()\n",
    "plt.plot(x, y, 'r.', markersize=12)\n",
    "plt.plot(x, y_, 'g.-', markersize=12)\n",
    "plt.plot(x, lr.predict(x[:, np.newaxis]), 'b-')\n",
    "plt.gca().add_collection(lc)\n",
    "plt.legend(('Data', 'Isotonic Fit', 'Linear Fit'), loc='lower right')\n",
    "plt.title('Isotonic regression')\n",
    "plt.show()"
   ]
  }
 ],
 "metadata": {
  "kernelspec": {
   "display_name": "Python 2",
   "language": "python",
   "name": "python2"
  },
  "language_info": {
   "codemirror_mode": {
    "name": "ipython",
    "version": 2
   },
   "file_extension": ".py",
   "mimetype": "text/x-python",
   "name": "python",
   "nbconvert_exporter": "python",
   "pygments_lexer": "ipython2",
   "version": "2.7.15"
  }
 },
 "nbformat": 4,
 "nbformat_minor": 1
}
